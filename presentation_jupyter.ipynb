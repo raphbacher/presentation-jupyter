{
 "cells": [
  {
   "cell_type": "markdown",
   "metadata": {
    "slideshow": {
     "slide_type": "slide"
    }
   },
   "source": [
    "# Python day : Jupyter ecosystem\n",
    "\n",
    "##  May 24 2019 \n",
    "\n",
    "## Raphaël Bacher\n",
    "raphael.bacher@gipsa-lab.fr\n",
    "\n",
    "**https://tinyurl.com/jupy2019**\n",
    "\n",
    "**https://github.com/raphbacher/presentation-jupyter**\n",
    "\n",
    "<div style=\"margin: 0 auto;width:30%\">\n",
    "<img src=\"images/jupyter_log.png\">\n",
    "</div>"
   ]
  },
  {
   "cell_type": "markdown",
   "metadata": {
    "slideshow": {
     "slide_type": "slide"
    }
   },
   "source": [
    "## Plan\n",
    "\n",
    "- Jupyter ecosystem\n",
    "    - Self-use\n",
    "    - Services\n",
    "- Jupyter@UGA"
   ]
  },
  {
   "cell_type": "markdown",
   "metadata": {
    "slideshow": {
     "slide_type": "slide"
    }
   },
   "source": [
    "## A bit of history\n",
    "\n",
    "At the beginning :\n",
    "- 2001 : IPython (F. Perez), a REPL (Read–Eval–Print Loop) client-server\n",
    "- 2011 : IPython notebook : app web for documents mixing code, equations, images and text\n",
    "\n",
    "Key concept : a client-server protocol\n",
    "<div style=\"margin: 0 auto;width:20%\">\n",
    "<img src=\"images/ipy_kernel_and_terminal.png\">\n",
    "</div>"
   ]
  },
  {
   "cell_type": "markdown",
   "metadata": {
    "slideshow": {
     "slide_type": "slide"
    }
   },
   "source": [
    "## Jupyter Now\n",
    "\n",
    "- Jupyter Notebook : heir to the IPython notebook (~2015)\n",
    "- JupyterHub : a multi-user version for classes, workshops etc...\n",
    "- Jupyterlab : a web IDE \n",
    "- Kernels for more than 40 languages : Python, R, Julia, C++ (!) ...\n",
    "- \\> 6M users (2017)\n",
    "- \\> 1M de notebooks on Github (2017)\n",
    "- ...\n"
   ]
  },
  {
   "cell_type": "markdown",
   "metadata": {
    "slideshow": {
     "slide_type": "slide"
    }
   },
   "source": [
    "## Jupyter Notebook\n",
    "<div class=\"row\" style=\"display:flex;width:100%\">\n",
    "<div class=\"column\" style=\"margin:10px; flex:auto\">\n",
    "<ul>\n",
    "    <li> A document format (in JSON)\n",
    "    <li> A client-server web app\n",
    "    <li> Mix text, results and code (with local or remote execution).\n",
    "</ul>\n",
    "\n",
    "Limitations :\n",
    "<ul>\n",
    "<li>Not the only nor the first Notebook (Mathematica, Apache Zeppelin, Rmarkdown...)\n",
    "<li> Bad versionning (JSON...), non-linear execution of cells...\n",
    "</ul>\n",
    "</div>\n",
    "<div class=\"column\" style=\"margin:10px; flex:auto\">\n",
    "<img src=\"images/jupyter_notebook.png\">\n",
    "</div>\n",
    "</div>"
   ]
  },
  {
   "cell_type": "markdown",
   "metadata": {
    "slideshow": {
     "slide_type": "slide"
    }
   },
   "source": [
    "## Jupyter Notebook : a personal use case\n",
    "\n",
    "During my thesis (astro data analysis) :\n",
    "- lots of long computations on quite big data, with need of graphical feedback\n",
    "- jupyter server on a personal server with the data\n",
    "- access from my browser in my laptop\n",
    "\n",
    "Advantages :\n",
    "- remote graphical access (\"ssh -X\" ... but useable...)\n",
    "- session persistency (\"screen/tmux\")\n",
    "- step by step execution (avoid replaying costly preprocessings)\n",
    "\n",
    "-> Complementary to an IDE (spyder, pycharm, Vim...) for data analysis, exploration, prototyping..."
   ]
  },
  {
   "cell_type": "markdown",
   "metadata": {
    "slideshow": {
     "slide_type": "slide"
    }
   },
   "source": [
    "## Ipywidgets\n",
    "\n",
    "- Widgets allowing graphical interactions\n",
    "- 2D, 3D plotting librairies built on these \n",
    "\n",
    "http://jupyter.org/widgets\n",
    "\n",
    "https://ipywidgets.readthedocs.io/en/stable/examples/Using%20Interact.html"
   ]
  },
  {
   "cell_type": "code",
   "execution_count": 1,
   "metadata": {
    "slideshow": {
     "slide_type": "slide"
    }
   },
   "outputs": [
    {
     "data": {
      "application/vnd.jupyter.widget-view+json": {
       "model_id": "4bc27b49480a491992693df3078dfe9a",
       "version_major": 2,
       "version_minor": 0
      },
      "text/plain": [
       "interactive(children=(IntSlider(value=10, description='x', max=30, min=-10), Output()), _dom_classes=('widget-…"
      ]
     },
     "metadata": {},
     "output_type": "display_data"
    }
   ],
   "source": [
    "from ipywidgets import interact\n",
    "\n",
    "def f(x):\n",
    "    return x\n",
    "interact(f, x=10);"
   ]
  },
  {
   "cell_type": "code",
   "execution_count": 2,
   "metadata": {
    "slideshow": {
     "slide_type": "slide"
    }
   },
   "outputs": [
    {
     "data": {
      "application/vnd.jupyter.widget-view+json": {
       "model_id": "b525b63d01af42b7958e4a7f51fc85d1",
       "version_major": 2,
       "version_minor": 0
      },
      "text/html": [
       "<p>Failed to display Jupyter Widget of type <code>Map</code>.</p>\n",
       "<p>\n",
       "  If you're reading this message in the Jupyter Notebook or JupyterLab Notebook, it may mean\n",
       "  that the widgets JavaScript is still loading. If this message persists, it\n",
       "  likely means that the widgets JavaScript library is either not installed or\n",
       "  not enabled. See the <a href=\"https://ipywidgets.readthedocs.io/en/stable/user_install.html\">Jupyter\n",
       "  Widgets Documentation</a> for setup instructions.\n",
       "</p>\n",
       "<p>\n",
       "  If you're reading this message in another frontend (for example, a static\n",
       "  rendering on GitHub or <a href=\"https://nbviewer.jupyter.org/\">NBViewer</a>),\n",
       "  it may mean that your frontend doesn't currently support widgets.\n",
       "</p>\n"
      ],
      "text/plain": [
       "Map(basemap={'url': 'https://{s}.tile.openstreetmap.org/{z}/{x}/{y}.png', 'max_zoom': 19, 'attribution': 'Map data (c) <a href=\"https://openstreetmap.org\">OpenStreetMap</a> contributors'}, center=[34.6252978589571, -77.34580993652344], layers=(TileLayer(base=True, max_zoom=19, min_zoom=1, options=['attribution', 'detect_retina', 'max_zoom', 'min_zoom', 'tile_size']),), options=['attribution_control', 'basemap', 'bounce_at_zoom_limits', 'box_zoom', 'center', 'close_popup_on_click', 'double_click_zoom', 'dragging', 'inertia', 'inertia_deceleration', 'inertia_max_speed', 'keyboard', 'keyboard_pan_offset', 'keyboard_zoom_offset', 'max_zoom', 'min_zoom', 'scroll_wheel_zoom', 'tap', 'tap_tolerance', 'touch_zoom', 'world_copy_jump', 'zoom', 'zoom_animation_threshold', 'zoom_control', 'zoom_start'], zoom=10)"
      ]
     },
     "metadata": {},
     "output_type": "display_data"
    }
   ],
   "source": [
    "from ipyleaflet import Map\n",
    "\n",
    "Map(center=[34.6252978589571, -77.34580993652344], zoom=10)"
   ]
  },
  {
   "cell_type": "code",
   "execution_count": 2,
   "metadata": {
    "slideshow": {
     "slide_type": "slide"
    }
   },
   "outputs": [
    {
     "data": {
      "application/vnd.jupyter.widget-view+json": {
       "model_id": "5e75b49d543d4e5c8d1a2046d2220faf",
       "version_major": 2,
       "version_minor": 0
      },
      "text/html": [
       "<p>Failed to display Jupyter Widget of type <code>VBox</code>.</p>\n",
       "<p>\n",
       "  If you're reading this message in the Jupyter Notebook or JupyterLab Notebook, it may mean\n",
       "  that the widgets JavaScript is still loading. If this message persists, it\n",
       "  likely means that the widgets JavaScript library is either not installed or\n",
       "  not enabled. See the <a href=\"https://ipywidgets.readthedocs.io/en/stable/user_install.html\">Jupyter\n",
       "  Widgets Documentation</a> for setup instructions.\n",
       "</p>\n",
       "<p>\n",
       "  If you're reading this message in another frontend (for example, a static\n",
       "  rendering on GitHub or <a href=\"https://nbviewer.jupyter.org/\">NBViewer</a>),\n",
       "  it may mean that your frontend doesn't currently support widgets.\n",
       "</p>\n"
      ],
      "text/plain": [
       "VBox(children=(Figure(camera_center=[0.0, 0.0, 0.0], height=500, matrix_projection=[0.0, 0.0, 0.0, 0.0, 0.0, 0.0, 0.0, 0.0, 0.0, 0.0, 0.0, 0.0, 0.0, 0.0, 0.0, 0.0], matrix_world=[0.0, 0.0, 0.0, 0.0, 0.0, 0.0, 0.0, 0.0, 0.0, 0.0, 0.0, 0.0, 0.0, 0.0, 0.0, 0.0], scatters=[Scatter(color_selected=array('white',\n",
       "      dtype='<U5'), geo='sphere', size=array(1), size_selected=array(2.6), x=array([ 0.26763799,  0.84853349,  0.57756912,  0.14639759,  0.61772995,\n",
       "        0.78753776,  0.86479349,  0.99748848,  0.03739048,  0.46595497,\n",
       "        0.99323868,  0.79075765,  0.20469627,  0.93659197,  0.32674945,\n",
       "        0.99610191,  0.8980368 ,  0.88580763,  0.04148943,  0.22840922,\n",
       "        0.76002446,  0.98928729,  0.91524916,  0.02277498,  0.58246937,\n",
       "        0.24725603,  0.00337344,  0.53291602,  0.64506519,  0.85390711,\n",
       "        0.50686596,  0.43447659,  0.28922268,  0.86607358,  0.80991471,\n",
       "        0.88944079,  0.90694396,  0.27120971,  0.99014747,  0.69196618,\n",
       "        0.44690531,  0.10181131,  0.51359587,  0.37412917,  0.62384533,\n",
       "        0.12156166,  0.67061823,  0.99115341,  0.00408275,  0.52460181,\n",
       "        0.16106122,  0.26578831,  0.35773914,  0.04107611,  0.05026949,\n",
       "        0.75701307,  0.22549291,  0.67374816,  0.05589776,  0.83643242,\n",
       "        0.70754981,  0.94228121,  0.61278125,  0.14232997,  0.82544842,\n",
       "        0.2085282 ,  0.23854785,  0.04521692,  0.2878301 ,  0.45872544,\n",
       "        0.62625491,  0.09273749,  0.06977013,  0.33577484,  0.78085721,\n",
       "        0.27932619,  0.674866  ,  0.26847713,  0.28377523,  0.65510122,\n",
       "        0.2100576 ,  0.10544123,  0.10346636,  0.93759344,  0.93772185,\n",
       "        0.01403335,  0.00465211,  0.07618628,  0.26897034,  0.83434593,\n",
       "        0.61290954,  0.28519503,  0.5224877 ,  0.09477417,  0.94075599,\n",
       "        0.44382951,  0.47146059,  0.6569072 ,  0.17260876,  0.65282695]), y=array([ 0.97560469,  0.59615373,  0.25203446,  0.42321317,  0.85587423,\n",
       "        0.11976567,  0.37378389,  0.714177  ,  0.6954754 ,  0.22004331,\n",
       "        0.45497482,  0.07912271,  0.69361724,  0.13730941,  0.36794082,\n",
       "        0.33491513,  0.87545291,  0.83661913,  0.97932986,  0.63460183,\n",
       "        0.49893722,  0.18723905,  0.28429428,  0.30822602,  0.57029157,\n",
       "        0.07071872,  0.5297438 ,  0.30653512,  0.53120937,  0.23009772,\n",
       "        0.02090929,  0.02118297,  0.91470827,  0.57816203,  0.57632528,\n",
       "        0.693924  ,  0.5014301 ,  0.80371999,  0.2969089 ,  0.41897232,\n",
       "        0.94762885,  0.8020939 ,  0.86674934,  0.38883651,  0.58353761,\n",
       "        0.28893166,  0.67282479,  0.16377958,  0.87320923,  0.25784766,\n",
       "        0.23526356,  0.44486608,  0.49026653,  0.61726204,  0.83837471,\n",
       "        0.03022881,  0.90964942,  0.11470817,  0.93698908,  0.72829148,\n",
       "        0.24641023,  0.8315525 ,  0.51341204,  0.45194382,  0.20137603,\n",
       "        0.4745888 ,  0.24413898,  0.28267193,  0.4256073 ,  0.43732041,\n",
       "        0.98361329,  0.60155087,  0.15998796,  0.09894095,  0.13482415,\n",
       "        0.02596326,  0.39015547,  0.25450789,  0.18982773,  0.85452842,\n",
       "        0.72861006,  0.74760205,  0.51067245,  0.15259733,  0.9976981 ,\n",
       "        0.83296189,  0.69097051,  0.08394032,  0.25691315,  0.57943221,\n",
       "        0.32967337,  0.06373787,  0.92705487,  0.73551397,  0.96195201,\n",
       "        0.89163471,  0.69615308,  0.81699446,  0.18006694,  0.8117347 ]), z=array([ 0.31462707,  0.51654677,  0.62080477,  0.96685421,  0.32238368,\n",
       "        0.05223338,  0.78595637,  0.55460654,  0.93821458,  0.32224155,\n",
       "        0.47823855,  0.51358784,  0.73148009,  0.19989448,  0.44424371,\n",
       "        0.48434211,  0.23596266,  0.9289815 ,  0.98731392,  0.33880261,\n",
       "        0.37725009,  0.34092908,  0.74712901,  0.21352359,  0.96404718,\n",
       "        0.05810319,  0.90370381,  0.36255331,  0.66251879,  0.67414437,\n",
       "        0.31752625,  0.00201382,  0.74033998,  0.86119668,  0.18162025,\n",
       "        0.92081546,  0.23355709,  0.98527182,  0.41928435,  0.85382778,\n",
       "        0.25947562,  0.72576503,  0.25815327,  0.07230984,  0.24891646,\n",
       "        0.5155534 ,  0.1800202 ,  0.91135968,  0.28654019,  0.27279606,\n",
       "        0.50114405,  0.35893944,  0.95498715,  0.39689947,  0.90164883,\n",
       "        0.98439433,  0.80894222,  0.88182286,  0.0137064 ,  0.59613738,\n",
       "        0.57168716,  0.33450524,  0.37751004,  0.15500168,  0.01818421,\n",
       "        0.38619956,  0.15362601,  0.55144569,  0.53775363,  0.56315355,\n",
       "        0.71452086,  0.72963979,  0.64692523,  0.73442244,  0.88651301,\n",
       "        0.02603751,  0.72315633,  0.54212905,  0.86594938,  0.69038293,\n",
       "        0.96483317,  0.44047764,  0.61124018,  0.3963372 ,  0.92522154,\n",
       "        0.01311657,  0.22427553,  0.23248991,  0.61585515,  0.13958034,\n",
       "        0.06259611,  0.20330375,  0.52690315,  0.08470055,  0.15441599,\n",
       "        0.28807535,  0.39957219,  0.54164004,  0.06772967,  0.57211663]))], style={'axes': {'visible': True, 'label': {'color': 'black'}, 'ticklabel': {'color': 'black'}, 'color': 'black'}, 'box': {'visible': True}, 'background-color': 'white'}, tf=None, width=400, xlim=[0.0, 1.0], ylim=[0.0, 1.0], zlim=[0.0, 1.0]),))"
      ]
     },
     "metadata": {},
     "output_type": "display_data"
    }
   ],
   "source": [
    "import ipyvolume as ipv\n",
    "import numpy as np\n",
    "x, y, z = np.random.random((3, 100))\n",
    "f = ipv.figure(key='red')\n",
    "ipv.scatter(x, y, z, size=1, marker=\"sphere\")\n",
    "ipv.show()"
   ]
  },
  {
   "cell_type": "markdown",
   "metadata": {
    "slideshow": {
     "slide_type": "slide"
    }
   },
   "source": [
    "## Jupyterlab\n",
    "\n",
    "- Same notebook format/server but greatly improved client interface\n",
    "- A web IDE (not quite there yet)\n",
    "- A View/Model mechanism for all documents\n",
    "  - allow e.g. to write a document in md/latex and see live preview\n",
    "- Highly customizable by extensions (all curent parts are extensions) :\n",
    "  - git/github\n",
    "  - draw.io\n",
    "  - geojson \n",
    "  - ...\n",
    "  \n",
    " ### Demo : change /tree to /lab\n",
    " or install : *conda install -c conda-forge jupyterlab*"
   ]
  },
  {
   "cell_type": "markdown",
   "metadata": {
    "slideshow": {
     "slide_type": "slide"
    }
   },
   "source": [
    "## JupyterHub\n",
    "\n",
    "\n",
    "<div class=\"row\" style=\"display:flex;width:100%\">\n",
    "<div class=\"column\" style=\"margin:10px; flex:auto\">\n",
    "<h3> Components </h3>\n",
    "<ul>\n",
    "<li>A web proxy\n",
    "<li>An environnement image (docker)\n",
    "<li>A list of users\n",
    "</ul>\n",
    "\n",
    "<h3>JupyterHub@UGA</h3>\n",
    "https://jupyterhub.u-ga.fr\n",
    "</div>\n",
    "<div class=\"column\" style=\"flex:auto;margin:10px\">\n",
    "<img src=\"images/jupyterhub_schema.png\">\n",
    "</div>\n",
    "</div>"
   ]
  },
  {
   "cell_type": "markdown",
   "metadata": {
    "slideshow": {
     "slide_type": "slide"
    }
   },
   "source": [
    "## BinderHub\n",
    "\n",
    "<div class=\"row\" style=\"display:flex; margin: 0 auto; width: 100%\">\n",
    "<div class=\"column\" style=\"flex:30%; margin: 10px\">\n",
    "    Combine the proxy to docker instance of Jupyterhub with a project for \"repo to docker image\"\n",
    "\n",
    "<ul>\n",
    "<li> Put your code (demo/tuto, course...) on a github repo online\n",
    "<li> Generate a link on https://mybinder.org/ from your repo link\n",
    "<li> When going to this new url, any webuser get a sandbox containing your code and with all wanted packages already installed.\n",
    "</ul>\n",
    "\n",
    "https://mybinder.org/: Public instance\n",
    "\n",
    "https://binder.pangeo.io/\n",
    "</div>\n",
    "<div class=\"column\" style=\"flex:40%; margin: 10px\">\n",
    "<img src=\"images/architecture.png\">\n",
    "</div>\n",
    "</div>\n"
   ]
  },
  {
   "cell_type": "markdown",
   "metadata": {
    "slideshow": {
     "slide_type": "slide"
    }
   },
   "source": [
    "## Summary of user stories\n",
    "\n",
    "- Do data analysis, prototyping...\n",
    "    -> Jupyterlab : Notebook + editor+console+terminal\n",
    "- Publish a demo/tuto of a library\n",
    "    -> BinderHub : https://mybinder.org/\n",
    "- Share a static (html) version of a notebook online  :\n",
    "    -> nbviewer : https://nbviewer.jupyter.org/\n",
    "- Create a full online course :\n",
    "    -> jupyter-book https://jupyter.org/jupyter-book/intro\n",
    "- Give a working environment to students  :\n",
    "    -> jupyterhub : https://jupyterhub.u-ga.fr\n",
    "- Give, fetch and grade exercises : -> nbgrader"
   ]
  },
  {
   "cell_type": "markdown",
   "metadata": {
    "slideshow": {
     "slide_type": "slide"
    }
   },
   "source": [
    "## Lots of utilities\n",
    "\n",
    "- [nbconvert](https://github.com/jupyter/nbconvert) (used by nbviewer and \"Download as\" menu) : convert notebook in md, latex, pdf, slides html\n",
    "- [RISE](https://github.com/damianavila/RISE) : jupyter in slides mode\n",
    "- [nteract](https://nteract.io/) : notebook in native app (no browser)\n",
    "- [hydrogen](https://nteract.io/atom) : interactive coding in Atom editor\n",
    "- [jupytext](https://github.com/mwouts/jupytext) : write a notebook in (r)markdown\n",
    "- [nbinteract](https://github.com/SamLau95/nbinteract)/[thebelab](https://github.com/minrk/thebelab) : interactive html\n",
    "- [Gallery of notebooks, books etc...](https://github.com/jupyter/jupyter/wiki/a-gallery-of-interesting-jupyter-notebooks)\n",
    "- [Colaboratory](https://colab.research.google.com) : jupyter notebook in Google Drive : collaborative :-), Google :-(\n",
    "\n",
    "Forum : https://discourse.jupyter.org/"
   ]
  },
  {
   "cell_type": "markdown",
   "metadata": {
    "slideshow": {
     "slide_type": "slide"
    }
   },
   "source": [
    "## Jupyter@UGA\n",
    "\n",
    "### Already here :\n",
    "A JupyterHub server : https://jupyterhub.u-ga.fr\n",
    "- CAS UGA authentication(login agalan)\n",
    "- 1 single environment (Docker image) : scientific paqckages R+Python \n",
    "- 2 servers : 128Go RAM, 32 coeurs, ~150 users\n",
    "- Persistant data\n",
    "\n",
    "\n",
    "### In development\n",
    "- A binderhub service ?\n",
    "- A platform to ask for jupyterhub instances (for workshops, classes...)\n",
    "- A national platform ?"
   ]
  },
  {
   "cell_type": "markdown",
   "metadata": {
    "slideshow": {
     "slide_type": "slide"
    }
   },
   "source": [
    "## Take-home message\n",
    "\n",
    "Jupyter is no more \"just\" Python and the Notebook.\n",
    "It's :\n",
    "- An open-source ecosystem becoming larger and larger, cross-language and with numerous usages\n",
    "- Current integration of services at UGA and nationaly\n",
    "- A great tool for BOTH researching and teaching \n",
    "\n",
    "*Open tools by academics for open science : use and contribute :-)  !* "
   ]
  }
 ],
 "metadata": {
  "celltoolbar": "Slideshow",
  "kernelspec": {
   "display_name": "jnb-rise",
   "language": "python",
   "name": "jnb-rise"
  },
  "language_info": {
   "codemirror_mode": {
    "name": "ipython",
    "version": 3
   },
   "file_extension": ".py",
   "mimetype": "text/x-python",
   "name": "python",
   "nbconvert_exporter": "python",
   "pygments_lexer": "ipython3",
   "version": "3.7.3"
  }
 },
 "nbformat": 4,
 "nbformat_minor": 2
}
